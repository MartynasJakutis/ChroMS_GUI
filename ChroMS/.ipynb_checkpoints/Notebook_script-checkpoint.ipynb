{
 "cells": [
  {
   "cell_type": "code",
   "execution_count": 1,
   "id": "1e0e2791-8955-4a24-9c43-cf8b71f1099f",
   "metadata": {},
   "outputs": [],
   "source": [
    "from ChroMS_application import ChroMS_Application\n",
    "import Main_GUI_parameters as mgp\n",
    "app = ChroMS_Application(folder_name_list = mgp.DATA_FOLDER_NAMES,\n",
    "                         window_state = mgp.WINDOW_STATE, window_title = mgp.WINDOW_TITLE)\n",
    "app.create_folders()\n",
    "app.create_application_body()"
   ]
  }
 ],
 "metadata": {
  "kernelspec": {
   "display_name": "Python 3 (ipykernel)",
   "language": "python",
   "name": "python3"
  },
  "language_info": {
   "codemirror_mode": {
    "name": "ipython",
    "version": 3
   },
   "file_extension": ".py",
   "mimetype": "text/x-python",
   "name": "python",
   "nbconvert_exporter": "python",
   "pygments_lexer": "ipython3",
   "version": "3.12.4"
  }
 },
 "nbformat": 4,
 "nbformat_minor": 5
}
